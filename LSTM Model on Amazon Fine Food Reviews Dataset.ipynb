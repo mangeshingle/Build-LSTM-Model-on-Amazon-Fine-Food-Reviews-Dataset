{
 "cells": [
  {
   "cell_type": "markdown",
   "metadata": {},
   "source": [
    "# <center>  LSTM Model on Amazon Fine Food Reviews Dataset </center>\n",
    "___"
   ]
  },
  {
   "cell_type": "markdown",
   "metadata": {},
   "source": [
    "###  <b>Exercise</b> :\n",
    "1.\tDownload Amazon Fine Food Reviews dataset from Kaggle. (https://www.kaggle.com/snap/amazon-fine-food-reviews)\n",
    "2.\tGet vocabulary for each word in corpus.\n",
    "3.\tAlso get the frequencies for each word and index them from most frequent to less frequent.\n",
    "4.\tNow run LSTM Models on the dataset.\n",
    "5.\tAlso try 2-layers of LSTM.\n",
    "6.\tAlso use dropout and batch normalization and plot train-test error vs epochs for each model.\n",
    "7.\tWrite your observations in English as crisply and unambiguously as possible. Always quantify your results.\n"
   ]
  },
  {
   "cell_type": "markdown",
   "metadata": {},
   "source": [
    "### Information regarding data set :\n",
    "\n",
    "1. <b>Title</b>: Amazon Fine Food Reviews Data\n",
    "\n",
    "2. <b>Sources</b>: Stanford Network Analysis Project(SNAP)\n",
    "\n",
    "3. <b>Relevant Information</b>: This dataset consists of reviews of fine foods from amazon. The data span a period of more than 10 years, including all ~568,454 reviews up to October 2012(Oct 1999 - Oct 2012). Reviews include product and user information, ratings, and a plain text review.\n",
    "4.  <b>Attribute Information</b>:   \n",
    "    <b>ProductId </b>- unique identifier for the product <br/>\n",
    "    <b>UserId </b>- unqiue identifier for the user <br/>\n",
    "    <b>ProfileName </b>- name of the user <br/>\n",
    "    <b>HelpfulnessNumerator </b>- number of users who found the review helpful <br/>\n",
    "    <b>HelpfulnessDenominator </b>- number of users who indicated whether they found the review helpful or not <br/>\n",
    "    <b>Score </b>- rating between 1 and 5.( rating of 4 or 5 could be cosnidered a positive review. A review of 1 or 2 could be considered negative. A review of 3 is nuetral and ignored) <br/>\n",
    "    <b>Time </b>- timestamp for the review <br/> \n",
    "    <b>Summary </b>- brief summary of the review <br/>\n",
    "    <b>Text </b>- text of the review <br/>"
   ]
  },
  {
   "cell_type": "markdown",
   "metadata": {},
   "source": [
    "---\n",
    "\n",
    "### <b>Objective :</b> \n",
    "> <span style=\"color:blue\">It is a 2-class classification task, where we have to analyze, transform and perform LSTM to find the polarity of the dataset.<span>\n",
    "\n",
    "---"
   ]
  },
  {
   "cell_type": "code",
   "execution_count": 1,
   "metadata": {},
   "outputs": [
    {
     "name": "stderr",
     "output_type": "stream",
     "text": [
      "Using TensorFlow backend.\n"
     ]
    }
   ],
   "source": [
    "import warnings\n",
    "from sklearn.exceptions import DataConversionWarning\n",
    "warnings.filterwarnings(action='ignore', category=DataConversionWarning)\n",
    "\n",
    "import sqlite3\n",
    "import datetime as dt\n",
    "import pandas as pd\n",
    "import numpy as np\n",
    "import matplotlib.pyplot as plt\n",
    "import seaborn as sns\n",
    "from collections import Counter\n",
    "from itertools import islice\n",
    "\n",
    "from sklearn.model_selection import train_test_split\n",
    "from keras.models import Sequential \n",
    "from keras.preprocessing import sequence\n",
    "from keras.initializers import he_normal\n",
    "from keras.layers import BatchNormalization, Dense, Dropout, Flatten, LSTM\n",
    "from keras.layers.embeddings import Embedding\n",
    "from keras.regularizers import L1L2\n",
    "from prettytable import PrettyTable"
   ]
  },
  {
   "cell_type": "markdown",
   "metadata": {},
   "source": [
    "<br/>\n",
    "<br/>\n",
    "\n",
    "#### Load Dataset"
   ]
  },
  {
   "cell_type": "code",
   "execution_count": 2,
   "metadata": {},
   "outputs": [
    {
     "name": "stdout",
     "output_type": "stream",
     "text": [
      "Dataset Shape : \n",
      " (351237,)\n"
     ]
    },
    {
     "data": {
      "text/html": [
       "<div>\n",
       "<style scoped>\n",
       "    .dataframe tbody tr th:only-of-type {\n",
       "        vertical-align: middle;\n",
       "    }\n",
       "\n",
       "    .dataframe tbody tr th {\n",
       "        vertical-align: top;\n",
       "    }\n",
       "\n",
       "    .dataframe thead th {\n",
       "        text-align: right;\n",
       "    }\n",
       "</style>\n",
       "<table border=\"1\" class=\"dataframe\">\n",
       "  <thead>\n",
       "    <tr style=\"text-align: right;\">\n",
       "      <th></th>\n",
       "      <th>Id</th>\n",
       "      <th>ProductId</th>\n",
       "      <th>UserId</th>\n",
       "      <th>ProfileName</th>\n",
       "      <th>HelpfulnessNumerator</th>\n",
       "      <th>HelpfulnessDenominator</th>\n",
       "      <th>Score</th>\n",
       "      <th>Time</th>\n",
       "      <th>Summary</th>\n",
       "      <th>Text</th>\n",
       "      <th>CleanedText</th>\n",
       "    </tr>\n",
       "  </thead>\n",
       "  <tbody>\n",
       "    <tr>\n",
       "      <th>382</th>\n",
       "      <td>451856</td>\n",
       "      <td>B00004CXX9</td>\n",
       "      <td>AIUWLEQ1ADEG5</td>\n",
       "      <td>Elizabeth Medina</td>\n",
       "      <td>0</td>\n",
       "      <td>0</td>\n",
       "      <td>1</td>\n",
       "      <td>1999-12-02 05:30:00</td>\n",
       "      <td>Entertainingl Funny!</td>\n",
       "      <td>Beetlejuice is a well written movie ..... ever...</td>\n",
       "      <td>beetlejuic well written movi everyth excel act...</td>\n",
       "    </tr>\n",
       "    <tr>\n",
       "      <th>250</th>\n",
       "      <td>374359</td>\n",
       "      <td>B00004CI84</td>\n",
       "      <td>A344SMIA5JECGM</td>\n",
       "      <td>Vincent P. Ross</td>\n",
       "      <td>1</td>\n",
       "      <td>2</td>\n",
       "      <td>1</td>\n",
       "      <td>1999-12-06 05:30:00</td>\n",
       "      <td>A modern day fairy tale</td>\n",
       "      <td>A twist of rumplestiskin captured on film, sta...</td>\n",
       "      <td>twist rumplestiskin captur film star michael k...</td>\n",
       "    </tr>\n",
       "    <tr>\n",
       "      <th>383</th>\n",
       "      <td>451855</td>\n",
       "      <td>B00004CXX9</td>\n",
       "      <td>AJH6LUC1UT1ON</td>\n",
       "      <td>The Phantom of the Opera</td>\n",
       "      <td>0</td>\n",
       "      <td>0</td>\n",
       "      <td>1</td>\n",
       "      <td>2000-01-03 05:30:00</td>\n",
       "      <td>FANTASTIC!</td>\n",
       "      <td>Beetlejuice is an excellent and funny movie. K...</td>\n",
       "      <td>beetlejuic excel funni movi keaton hilari wack...</td>\n",
       "    </tr>\n",
       "    <tr>\n",
       "      <th>269</th>\n",
       "      <td>374422</td>\n",
       "      <td>B00004CI84</td>\n",
       "      <td>A1048CYU0OV4O8</td>\n",
       "      <td>Judy L. Eans</td>\n",
       "      <td>2</td>\n",
       "      <td>2</td>\n",
       "      <td>1</td>\n",
       "      <td>2000-01-09 05:30:00</td>\n",
       "      <td>GREAT</td>\n",
       "      <td>THIS IS ONE MOVIE THAT SHOULD BE IN YOUR MOVIE...</td>\n",
       "      <td>one movi movi collect fill comedi action whate...</td>\n",
       "    </tr>\n",
       "    <tr>\n",
       "      <th>369</th>\n",
       "      <td>374343</td>\n",
       "      <td>B00004CI84</td>\n",
       "      <td>A1B2IZU1JLZA6</td>\n",
       "      <td>Wes</td>\n",
       "      <td>19</td>\n",
       "      <td>23</td>\n",
       "      <td>0</td>\n",
       "      <td>2000-01-19 05:30:00</td>\n",
       "      <td>WARNING: CLAMSHELL EDITION IS EDITED TV VERSION</td>\n",
       "      <td>I, myself always enjoyed this movie, it's very...</td>\n",
       "      <td>alway enjoy movi funni entertain didnt hesit p...</td>\n",
       "    </tr>\n",
       "  </tbody>\n",
       "</table>\n",
       "</div>"
      ],
      "text/plain": [
       "         Id   ProductId          UserId               ProfileName  \\\n",
       "382  451856  B00004CXX9   AIUWLEQ1ADEG5          Elizabeth Medina   \n",
       "250  374359  B00004CI84  A344SMIA5JECGM           Vincent P. Ross   \n",
       "383  451855  B00004CXX9   AJH6LUC1UT1ON  The Phantom of the Opera   \n",
       "269  374422  B00004CI84  A1048CYU0OV4O8              Judy L. Eans   \n",
       "369  374343  B00004CI84   A1B2IZU1JLZA6                       Wes   \n",
       "\n",
       "     HelpfulnessNumerator  HelpfulnessDenominator  Score                Time  \\\n",
       "382                     0                       0      1 1999-12-02 05:30:00   \n",
       "250                     1                       2      1 1999-12-06 05:30:00   \n",
       "383                     0                       0      1 2000-01-03 05:30:00   \n",
       "269                     2                       2      1 2000-01-09 05:30:00   \n",
       "369                    19                      23      0 2000-01-19 05:30:00   \n",
       "\n",
       "                                             Summary  \\\n",
       "382                             Entertainingl Funny!   \n",
       "250                          A modern day fairy tale   \n",
       "383                                       FANTASTIC!   \n",
       "269                                            GREAT   \n",
       "369  WARNING: CLAMSHELL EDITION IS EDITED TV VERSION   \n",
       "\n",
       "                                                  Text  \\\n",
       "382  Beetlejuice is a well written movie ..... ever...   \n",
       "250  A twist of rumplestiskin captured on film, sta...   \n",
       "383  Beetlejuice is an excellent and funny movie. K...   \n",
       "269  THIS IS ONE MOVIE THAT SHOULD BE IN YOUR MOVIE...   \n",
       "369  I, myself always enjoyed this movie, it's very...   \n",
       "\n",
       "                                           CleanedText  \n",
       "382  beetlejuic well written movi everyth excel act...  \n",
       "250  twist rumplestiskin captur film star michael k...  \n",
       "383  beetlejuic excel funni movi keaton hilari wack...  \n",
       "269  one movi movi collect fill comedi action whate...  \n",
       "369  alway enjoy movi funni entertain didnt hesit p...  "
      ]
     },
     "execution_count": 2,
     "metadata": {},
     "output_type": "execute_result"
    }
   ],
   "source": [
    "# This dataset is already gone through data deduplication and text preprocessing, so it is approx ~364K\n",
    "\n",
    "# For Data Cleaning Steps follow this link -\n",
    "# ipython notebook - https://drive.google.com/open?id=1JXCva5vXdIPgHbfNdD9sgnySqELoVtpy\n",
    "# dataset - https://drive.google.com/open?id=1IoDoTT8TfDu53N6cyKg6xVCU-FDPHyIF\n",
    "\n",
    "# For Text Preporcessing Steps follow this link -\n",
    "# ipython notebook - https://drive.google.com/open?id=18-AkTzzEhCwM_hflIbDNBMAP-imX4k4i\n",
    "# dataset - https://drive.google.com/open?id=1SfDwwXFhDpjgtfIE5O_E80SO89xRc8Sa\n",
    "\n",
    "# Load dataset\n",
    "def load_review_dataset(do_not_sample=True, sample_count=1):\n",
    "    # Create connection object to load sqlite dataset\n",
    "    connection = sqlite3.connect('finalDataSet.sqlite')\n",
    "\n",
    "    # Load data into pandas dataframe.\n",
    "    reviews_df = pd.read_sql_query(\"\"\" SELECT * FROM Reviews \"\"\",connection)\n",
    "\n",
    "    # Drop index column \n",
    "    reviews_df = reviews_df.drop(columns=['index'])   \n",
    "       \n",
    "    # Sample dataset\n",
    "    if do_not_sample == False:\n",
    "        reviews_df = reviews_df.sample(sample_count)\n",
    "        \n",
    "    # Convert timestamp to datetime.\n",
    "    reviews_df['Time'] = reviews_df[['Time']].applymap(lambda x: dt.datetime.fromtimestamp(x))\n",
    "\n",
    "    # Sort the data on the basis of time.\n",
    "    reviews_df = reviews_df.sort_values(by=['Time'])    \n",
    "    \n",
    "    return reviews_df\n",
    "\n",
    "\n",
    "# Load 'finalDataSet.sqlite' in panda's daraframe.\n",
    "reviews_df = load_review_dataset(do_not_sample = True,sample_count = 1)\n",
    "\n",
    "\n",
    "# Make CleanedText as a dataset for clustering\n",
    "cleaned_text = reviews_df['CleanedText'].values\n",
    "\n",
    "print(\"Dataset Shape : \\n\",cleaned_text.shape)\n",
    "\n",
    "reviews_df['Score'] = reviews_df['Score'].map(lambda x : 1 if x == 'positive' else 0)\n",
    "reviews_df.head(5)"
   ]
  },
  {
   "cell_type": "markdown",
   "metadata": {},
   "source": [
    "<br/>\n",
    "<br/>\n",
    "\n",
    "#### Lets calculate frequencies for each word and index them from most frequent to less frequent."
   ]
  },
  {
   "cell_type": "code",
   "execution_count": 3,
   "metadata": {},
   "outputs": [
    {
     "name": "stdout",
     "output_type": "stream",
     "text": [
      "Shape of the data :  (351237,)\n",
      "Number of sentences present in complete dataset :  12901678\n",
      "Number of unique words present in whole corpus:  93072\n",
      "\n",
      "Top 25 words with their frequencies:\n",
      "[('like', 160957), ('tast', 153682), ('flavor', 122605), ('good', 120139), ('love', 111232), ('use', 110705), ('product', 110217), ('one', 108864), ('great', 104928), ('tri', 96815), ('tea', 89507), ('coffe', 88109), ('get', 80051), ('make', 79567), ('food', 69353), ('would', 67655), ('buy', 63884), ('time', 60622), ('realli', 57989), ('eat', 57247), ('amazon', 55670), ('order', 55535), ('dont', 53855), ('much', 53351), ('price', 53027)]\n",
      "\n",
      "Top 25 words with their index:\n",
      "[('like', 1), ('tast', 2), ('flavor', 3), ('good', 4), ('love', 5), ('use', 6), ('product', 7), ('one', 8), ('great', 9), ('tri', 10), ('tea', 11), ('coffe', 12), ('get', 13), ('make', 14), ('food', 15), ('would', 16), ('buy', 17), ('time', 18), ('realli', 19), ('eat', 20), ('amazon', 21), ('order', 22), ('dont', 23), ('much', 24), ('price', 25)]\n"
     ]
    }
   ],
   "source": [
    "all_words=[]\n",
    "for sentence in cleaned_text:\n",
    "    words = sentence.split()\n",
    "    all_words += words\n",
    "    \n",
    "print(\"Shape of the data : \",cleaned_text.shape)\n",
    "print(\"Number of sentences present in complete dataset : \",len(all_words))\n",
    "\n",
    "counts = Counter(all_words)\n",
    "print(\"Number of unique words present in whole corpus: \",len(counts.most_common()))\n",
    "vocab_size = len(counts.most_common()) + 1\n",
    "top_words_count = 5000\n",
    "sorted_words = counts.most_common(top_words_count)\n",
    "\n",
    "word_index_lookup = dict()\n",
    "i = 1\n",
    "for word,frequency in sorted_words:\n",
    "    word_index_lookup[word] = i\n",
    "    i += 1\n",
    "\n",
    "print()\n",
    "print(\"Top 25 words with their frequencies:\")\n",
    "print(counts.most_common(25))\n",
    "print()\n",
    "print(\"Top 25 words with their index:\")\n",
    "print(list(islice(word_index_lookup.items(), 25)))"
   ]
  },
  {
   "cell_type": "markdown",
   "metadata": {},
   "source": [
    "<br/>\n",
    "<br/>\n",
    "\n",
    "#### Lets add new column to our existing review dataframe with the index value of the words, which are present in 'CleanedText' columns."
   ]
  },
  {
   "cell_type": "code",
   "execution_count": 4,
   "metadata": {},
   "outputs": [
    {
     "data": {
      "text/html": [
       "<div>\n",
       "<style scoped>\n",
       "    .dataframe tbody tr th:only-of-type {\n",
       "        vertical-align: middle;\n",
       "    }\n",
       "\n",
       "    .dataframe tbody tr th {\n",
       "        vertical-align: top;\n",
       "    }\n",
       "\n",
       "    .dataframe thead th {\n",
       "        text-align: right;\n",
       "    }\n",
       "</style>\n",
       "<table border=\"1\" class=\"dataframe\">\n",
       "  <thead>\n",
       "    <tr style=\"text-align: right;\">\n",
       "      <th></th>\n",
       "      <th>Id</th>\n",
       "      <th>ProductId</th>\n",
       "      <th>UserId</th>\n",
       "      <th>ProfileName</th>\n",
       "      <th>HelpfulnessNumerator</th>\n",
       "      <th>HelpfulnessDenominator</th>\n",
       "      <th>Score</th>\n",
       "      <th>Time</th>\n",
       "      <th>Summary</th>\n",
       "      <th>Text</th>\n",
       "      <th>CleanedText</th>\n",
       "      <th>CleanedText_Index</th>\n",
       "    </tr>\n",
       "  </thead>\n",
       "  <tbody>\n",
       "    <tr>\n",
       "      <th>382</th>\n",
       "      <td>451856</td>\n",
       "      <td>B00004CXX9</td>\n",
       "      <td>AIUWLEQ1ADEG5</td>\n",
       "      <td>Elizabeth Medina</td>\n",
       "      <td>0</td>\n",
       "      <td>0</td>\n",
       "      <td>1</td>\n",
       "      <td>1999-12-02 05:30:00</td>\n",
       "      <td>Entertainingl Funny!</td>\n",
       "      <td>Beetlejuice is a well written movie ..... ever...</td>\n",
       "      <td>beetlejuic well written movi everyth excel act...</td>\n",
       "      <td>[4375, 34, 2156, 1220, 343, 159, 1803, 447, 50...</td>\n",
       "    </tr>\n",
       "    <tr>\n",
       "      <th>250</th>\n",
       "      <td>374359</td>\n",
       "      <td>B00004CI84</td>\n",
       "      <td>A344SMIA5JECGM</td>\n",
       "      <td>Vincent P. Ross</td>\n",
       "      <td>1</td>\n",
       "      <td>2</td>\n",
       "      <td>1</td>\n",
       "      <td>1999-12-06 05:30:00</td>\n",
       "      <td>A modern day fairy tale</td>\n",
       "      <td>A twist of rumplestiskin captured on film, sta...</td>\n",
       "      <td>twist rumplestiskin captur film star michael k...</td>\n",
       "      <td>[1555, 0, 3692, 2656, 212, 2557, 0, 0, 0, 933,...</td>\n",
       "    </tr>\n",
       "    <tr>\n",
       "      <th>383</th>\n",
       "      <td>451855</td>\n",
       "      <td>B00004CXX9</td>\n",
       "      <td>AJH6LUC1UT1ON</td>\n",
       "      <td>The Phantom of the Opera</td>\n",
       "      <td>0</td>\n",
       "      <td>0</td>\n",
       "      <td>1</td>\n",
       "      <td>2000-01-03 05:30:00</td>\n",
       "      <td>FANTASTIC!</td>\n",
       "      <td>Beetlejuice is an excellent and funny movie. K...</td>\n",
       "      <td>beetlejuic excel funni movi keaton hilari wack...</td>\n",
       "      <td>[4375, 159, 1429, 1220, 0, 0, 0, 4375, 9, 447,...</td>\n",
       "    </tr>\n",
       "    <tr>\n",
       "      <th>269</th>\n",
       "      <td>374422</td>\n",
       "      <td>B00004CI84</td>\n",
       "      <td>A1048CYU0OV4O8</td>\n",
       "      <td>Judy L. Eans</td>\n",
       "      <td>2</td>\n",
       "      <td>2</td>\n",
       "      <td>1</td>\n",
       "      <td>2000-01-09 05:30:00</td>\n",
       "      <td>GREAT</td>\n",
       "      <td>THIS IS ONE MOVIE THAT SHOULD BE IN YOUR MOVIE...</td>\n",
       "      <td>one movi movi collect fill comedi action whate...</td>\n",
       "      <td>[8, 1220, 1220, 1661, 267, 0, 3098, 756, 350, ...</td>\n",
       "    </tr>\n",
       "    <tr>\n",
       "      <th>369</th>\n",
       "      <td>374343</td>\n",
       "      <td>B00004CI84</td>\n",
       "      <td>A1B2IZU1JLZA6</td>\n",
       "      <td>Wes</td>\n",
       "      <td>19</td>\n",
       "      <td>23</td>\n",
       "      <td>0</td>\n",
       "      <td>2000-01-19 05:30:00</td>\n",
       "      <td>WARNING: CLAMSHELL EDITION IS EDITED TV VERSION</td>\n",
       "      <td>I, myself always enjoyed this movie, it's very...</td>\n",
       "      <td>alway enjoy movi funni entertain didnt hesit p...</td>\n",
       "      <td>[100, 63, 1220, 1429, 2164, 122, 1098, 454, 0,...</td>\n",
       "    </tr>\n",
       "  </tbody>\n",
       "</table>\n",
       "</div>"
      ],
      "text/plain": [
       "         Id   ProductId          UserId               ProfileName  \\\n",
       "382  451856  B00004CXX9   AIUWLEQ1ADEG5          Elizabeth Medina   \n",
       "250  374359  B00004CI84  A344SMIA5JECGM           Vincent P. Ross   \n",
       "383  451855  B00004CXX9   AJH6LUC1UT1ON  The Phantom of the Opera   \n",
       "269  374422  B00004CI84  A1048CYU0OV4O8              Judy L. Eans   \n",
       "369  374343  B00004CI84   A1B2IZU1JLZA6                       Wes   \n",
       "\n",
       "     HelpfulnessNumerator  HelpfulnessDenominator  Score                Time  \\\n",
       "382                     0                       0      1 1999-12-02 05:30:00   \n",
       "250                     1                       2      1 1999-12-06 05:30:00   \n",
       "383                     0                       0      1 2000-01-03 05:30:00   \n",
       "269                     2                       2      1 2000-01-09 05:30:00   \n",
       "369                    19                      23      0 2000-01-19 05:30:00   \n",
       "\n",
       "                                             Summary  \\\n",
       "382                             Entertainingl Funny!   \n",
       "250                          A modern day fairy tale   \n",
       "383                                       FANTASTIC!   \n",
       "269                                            GREAT   \n",
       "369  WARNING: CLAMSHELL EDITION IS EDITED TV VERSION   \n",
       "\n",
       "                                                  Text  \\\n",
       "382  Beetlejuice is a well written movie ..... ever...   \n",
       "250  A twist of rumplestiskin captured on film, sta...   \n",
       "383  Beetlejuice is an excellent and funny movie. K...   \n",
       "269  THIS IS ONE MOVIE THAT SHOULD BE IN YOUR MOVIE...   \n",
       "369  I, myself always enjoyed this movie, it's very...   \n",
       "\n",
       "                                           CleanedText  \\\n",
       "382  beetlejuic well written movi everyth excel act...   \n",
       "250  twist rumplestiskin captur film star michael k...   \n",
       "383  beetlejuic excel funni movi keaton hilari wack...   \n",
       "269  one movi movi collect fill comedi action whate...   \n",
       "369  alway enjoy movi funni entertain didnt hesit p...   \n",
       "\n",
       "                                     CleanedText_Index  \n",
       "382  [4375, 34, 2156, 1220, 343, 159, 1803, 447, 50...  \n",
       "250  [1555, 0, 3692, 2656, 212, 2557, 0, 0, 0, 933,...  \n",
       "383  [4375, 159, 1429, 1220, 0, 0, 0, 4375, 9, 447,...  \n",
       "269  [8, 1220, 1220, 1661, 267, 0, 3098, 756, 350, ...  \n",
       "369  [100, 63, 1220, 1429, 2164, 122, 1098, 454, 0,...  "
      ]
     },
     "execution_count": 4,
     "metadata": {},
     "output_type": "execute_result"
    }
   ],
   "source": [
    "def apply_text_index(row):  \n",
    "    holder = []\n",
    "    for word in row['CleanedText'].split():\n",
    "        if word in word_index_lookup:\n",
    "            holder.append(word_index_lookup[word]) \n",
    "        else:\n",
    "            holder.append(0)            \n",
    "    return holder\n",
    "\n",
    "\n",
    "reviews_df['CleanedText_Index'] = reviews_df.apply(lambda row: apply_text_index(row),axis=1)\n",
    "reviews_df.head(5)"
   ]
  },
  {
   "cell_type": "markdown",
   "metadata": {},
   "source": [
    "<br/>\n",
    "<br/>\n",
    "\n",
    "#### Split dataset into 70 : 30 split."
   ]
  },
  {
   "cell_type": "code",
   "execution_count": 5,
   "metadata": {},
   "outputs": [],
   "source": [
    "# Split data into train and test\n",
    "x_train, x_test, y_train, y_test = train_test_split(reviews_df['CleanedText_Index'].values,\n",
    "                                                            reviews_df['Score'],\n",
    "                                                            test_size=0.3,\n",
    "                                                            shuffle=False,\n",
    "                                                            random_state=0)"
   ]
  },
  {
   "cell_type": "code",
   "execution_count": 6,
   "metadata": {},
   "outputs": [
    {
     "name": "stdout",
     "output_type": "stream",
     "text": [
      "Total number words present in first review:\n",
      " 20\n",
      "\n",
      "List of word indexes present in first review:\n",
      " [1555, 0, 3692, 2656, 212, 2557, 0, 0, 0, 933, 3049, 0, 0, 0, 4623, 111, 2385, 542, 2843, 1495]\n",
      "\n"
     ]
    }
   ],
   "source": [
    "print(\"Total number words present in first review:\\n\",len(x_train[1]))\n",
    "print()\n",
    "print(\"List of word indexes present in first review:\\n\", x_train[1])\n",
    "print()"
   ]
  },
  {
   "cell_type": "markdown",
   "metadata": {},
   "source": [
    "<br/>\n",
    "\n",
    "#### Lets apply padding to force every review to have equal length."
   ]
  },
  {
   "cell_type": "code",
   "execution_count": 7,
   "metadata": {},
   "outputs": [
    {
     "name": "stdout",
     "output_type": "stream",
     "text": [
      "Total number words present in first review after padding:\n",
      " 500\n",
      "\n",
      "List of word indexes present in first review padding:\n",
      " [   0    0    0    0    0    0    0    0    0    0    0    0    0    0\n",
      "    0    0    0    0    0    0    0    0    0    0    0    0    0    0\n",
      "    0    0    0    0    0    0    0    0    0    0    0    0    0    0\n",
      "    0    0    0    0    0    0    0    0    0    0    0    0    0    0\n",
      "    0    0    0    0    0    0    0    0    0    0    0    0    0    0\n",
      "    0    0    0    0    0    0    0    0    0    0    0    0    0    0\n",
      "    0    0    0    0    0    0    0    0    0    0    0    0    0    0\n",
      "    0    0    0    0    0    0    0    0    0    0    0    0    0    0\n",
      "    0    0    0    0    0    0    0    0    0    0    0    0    0    0\n",
      "    0    0    0    0    0    0    0    0    0    0    0    0    0    0\n",
      "    0    0    0    0    0    0    0    0    0    0    0    0    0    0\n",
      "    0    0    0    0    0    0    0    0    0    0    0    0    0    0\n",
      "    0    0    0    0    0    0    0    0    0    0    0    0    0    0\n",
      "    0    0    0    0    0    0    0    0    0    0    0    0    0    0\n",
      "    0    0    0    0    0    0    0    0    0    0    0    0    0    0\n",
      "    0    0    0    0    0    0    0    0    0    0    0    0    0    0\n",
      "    0    0    0    0    0    0    0    0    0    0    0    0    0    0\n",
      "    0    0    0    0    0    0    0    0    0    0    0    0    0    0\n",
      "    0    0    0    0    0    0    0    0    0    0    0    0    0    0\n",
      "    0    0    0    0    0    0    0    0    0    0    0    0    0    0\n",
      "    0    0    0    0    0    0    0    0    0    0    0    0    0    0\n",
      "    0    0    0    0    0    0    0    0    0    0    0    0    0    0\n",
      "    0    0    0    0    0    0    0    0    0    0    0    0    0    0\n",
      "    0    0    0    0    0    0    0    0    0    0    0    0    0    0\n",
      "    0    0    0    0    0    0    0    0    0    0    0    0    0    0\n",
      "    0    0    0    0    0    0    0    0    0    0    0    0    0    0\n",
      "    0    0    0    0    0    0    0    0    0    0    0    0    0    0\n",
      "    0    0    0    0    0    0    0    0    0    0    0    0    0    0\n",
      "    0    0    0    0    0    0    0    0    0    0    0    0    0    0\n",
      "    0    0    0    0    0    0    0    0    0    0    0    0    0    0\n",
      "    0    0    0    0    0    0    0    0    0    0    0    0    0    0\n",
      "    0    0    0    0    0    0    0    0    0    0    0    0    0    0\n",
      "    0    0    0    0    0    0    0    0    0    0    0    0    0    0\n",
      "    0    0    0    0    0    0    0    0    0    0    0    0    0    0\n",
      "    0    0    0    0 1555    0 3692 2656  212 2557    0    0    0  933\n",
      " 3049    0    0    0 4623  111 2385  542 2843 1495]\n",
      "\n"
     ]
    }
   ],
   "source": [
    "max_review_length = 500\n",
    "x_train = sequence.pad_sequences(x_train, maxlen=max_review_length)\n",
    "x_test = sequence.pad_sequences(x_test, maxlen=max_review_length)\n",
    "\n",
    "print(\"Total number words present in first review after padding:\\n\",len(x_train[1]))\n",
    "print()\n",
    "print(\"List of word indexes present in first review padding:\\n\", x_train[1])\n",
    "print()"
   ]
  },
  {
   "cell_type": "markdown",
   "metadata": {},
   "source": [
    "<br/>\n",
    "<br/>\n",
    "\n",
    "#### Model 1 - with 1 - LSTM Layer"
   ]
  },
  {
   "cell_type": "code",
   "execution_count": 8,
   "metadata": {},
   "outputs": [],
   "source": [
    "# Batch size \n",
    "batch_size = 192 \n",
    "\n",
    "# Number of time whole data is trained\n",
    "epochs = 10\n",
    "\n",
    "# Embedding vector size\n",
    "embedding_vecor_length = 32\n",
    "\n",
    "# Bias regularizer value - we will use elasticnet\n",
    "reg = L1L2(0.01, 0.01)\n",
    "\n",
    "# Plot train and cross validation loss\n",
    "def plot_train_cv_loss(trained_model, epochs, colors=['b']):\n",
    "    fig, ax = plt.subplots(1,1)    \n",
    "    ax.set_xlabel('epoch') \n",
    "    ax.set_ylabel('Categorical Crossentropy Loss')\n",
    "    x_axis_values = list(range(1,epochs+1))\n",
    "\n",
    "    validation_loss = trained_model.history['val_loss']\n",
    "    train_loss = trained_model.history['loss']   \n",
    "    \n",
    "    ax.plot(x_axis_values, validation_loss, 'b', label=\"Validation Loss\")\n",
    "    ax.plot(x_axis_values, train_loss, 'r', label=\"Train Loss\")\n",
    "    plt.legend()\n",
    "    plt.grid()\n",
    "    fig.canvas.draw()   "
   ]
  },
  {
   "cell_type": "code",
   "execution_count": 9,
   "metadata": {},
   "outputs": [
    {
     "name": "stdout",
     "output_type": "stream",
     "text": [
      "Model Summary: \n",
      "\n",
      "_________________________________________________________________\n",
      "Layer (type)                 Output Shape              Param #   \n",
      "=================================================================\n",
      "embedding_1 (Embedding)      (None, 500, 32)           2978336   \n",
      "_________________________________________________________________\n",
      "batch_normalization_1 (Batch (None, 500, 32)           128       \n",
      "_________________________________________________________________\n",
      "dropout_1 (Dropout)          (None, 500, 32)           0         \n",
      "_________________________________________________________________\n",
      "lstm_1 (LSTM)                (None, 100)               53200     \n",
      "_________________________________________________________________\n",
      "dropout_2 (Dropout)          (None, 100)               0         \n",
      "_________________________________________________________________\n",
      "dense_1 (Dense)              (None, 1)                 101       \n",
      "=================================================================\n",
      "Total params: 3,031,765\n",
      "Trainable params: 3,031,701\n",
      "Non-trainable params: 64\n",
      "_________________________________________________________________\n",
      "\n",
      "\n",
      "Train on 245865 samples, validate on 105372 samples\n",
      "Epoch 1/10\n",
      "245865/245865 [==============================] - 1138s 5ms/step - loss: 0.2057 - acc: 0.9195 - val_loss: 0.1938 - val_acc: 0.9251\n",
      "Epoch 2/10\n",
      "245865/245865 [==============================] - 1146s 5ms/step - loss: 0.1639 - acc: 0.9360 - val_loss: 0.1851 - val_acc: 0.9261\n",
      "Epoch 3/10\n",
      "245865/245865 [==============================] - 1304s 5ms/step - loss: 0.1476 - acc: 0.9425 - val_loss: 0.1841 - val_acc: 0.9277\n",
      "Epoch 4/10\n",
      "245865/245865 [==============================] - 1446s 6ms/step - loss: 0.1359 - acc: 0.9470 - val_loss: 0.1870 - val_acc: 0.9296\n",
      "Epoch 5/10\n",
      "245865/245865 [==============================] - 1332s 5ms/step - loss: 0.1255 - acc: 0.9512 - val_loss: 0.1954 - val_acc: 0.9288\n",
      "Epoch 6/10\n",
      "245865/245865 [==============================] - 1400s 6ms/step - loss: 0.1225 - acc: 0.9524 - val_loss: 0.1967 - val_acc: 0.9271\n",
      "Epoch 7/10\n",
      "245865/245865 [==============================] - 1423s 6ms/step - loss: 0.1179 - acc: 0.9541 - val_loss: 0.2025 - val_acc: 0.9263\n",
      "Epoch 8/10\n",
      "245865/245865 [==============================] - 1415s 6ms/step - loss: 0.1146 - acc: 0.9557 - val_loss: 0.2105 - val_acc: 0.9261\n",
      "Epoch 9/10\n",
      "245865/245865 [==============================] - 1405s 6ms/step - loss: 0.1059 - acc: 0.9592 - val_loss: 0.2069 - val_acc: 0.9279\n",
      "Epoch 10/10\n",
      "245865/245865 [==============================] - 1437s 6ms/step - loss: 0.1008 - acc: 0.9616 - val_loss: 0.2125 - val_acc: 0.9277\n"
     ]
    }
   ],
   "source": [
    "# Instantiate sequntial model\n",
    "model = Sequential()\n",
    "\n",
    "# Add Embedding Layer\n",
    "model.add(Embedding(vocab_size, embedding_vecor_length, input_length=max_review_length))\n",
    "\n",
    "# Add batch normalization\n",
    "model.add(BatchNormalization())\n",
    "\n",
    "# Add dropout\n",
    "model.add(Dropout(0.20))\n",
    "\n",
    "# Add LSTM Layer\n",
    "model.add(LSTM(100))\n",
    "\n",
    "# Add dropout\n",
    "model.add(Dropout(0.20))\n",
    "\n",
    "# Add Dense Layer\n",
    "model.add(Dense(1, activation='sigmoid'))\n",
    "\n",
    "# Summary of the model\n",
    "print(\"Model Summary: \\n\")\n",
    "model.summary()\n",
    "print()\n",
    "print()\n",
    "\n",
    "# Compile the model \n",
    "model.compile(loss='binary_crossentropy', optimizer='adam', metrics=['accuracy'])\n",
    "\n",
    "# Run the model\n",
    "trained_model = model.fit(x_train, np.array(y_train), batch_size = batch_size, epochs = epochs, verbose=1, validation_data=(x_test, y_test))"
   ]
  },
  {
   "cell_type": "code",
   "execution_count": 10,
   "metadata": {},
   "outputs": [
    {
     "name": "stdout",
     "output_type": "stream",
     "text": [
      "Test accuracy: 92.77%\n"
     ]
    }
   ],
   "source": [
    "score = model.evaluate(x_test, y_test, verbose=0) \n",
    "print('Test accuracy: {0:.2f}%'.format(score[1]*100))"
   ]
  },
  {
   "cell_type": "code",
   "execution_count": 11,
   "metadata": {},
   "outputs": [
    {
     "name": "stdout",
     "output_type": "stream",
     "text": [
      "\n",
      "\n"
     ]
    },
    {
     "data": {
      "image/png": "[encoded data removed]",
      "text/plain": [
       "<Figure size 432x288 with 1 Axes>"
      ]
     },
     "metadata": {
      "needs_background": "light"
     },
     "output_type": "display_data"
    }
   ],
   "source": [
    "print()\n",
    "print()\n",
    "\n",
    "# Plot train and cross validation error\n",
    "plot_train_cv_loss(trained_model, epochs)"
   ]
  },
  {
   "cell_type": "markdown",
   "metadata": {},
   "source": [
    "##### After 1st epoch we got 92.51% accuracy, and if we train further we starts to overfit, as validation error does not decreses."
   ]
  },
  {
   "cell_type": "markdown",
   "metadata": {},
   "source": [
    "<br/>\n",
    "<br/>\n",
    "\n",
    "#### Model 2 - With 2 - LSTM Layers"
   ]
  },
  {
   "cell_type": "code",
   "execution_count": 12,
   "metadata": {},
   "outputs": [
    {
     "name": "stdout",
     "output_type": "stream",
     "text": [
      "Model Summary: \n",
      "\n",
      "_________________________________________________________________\n",
      "Layer (type)                 Output Shape              Param #   \n",
      "=================================================================\n",
      "embedding_2 (Embedding)      (None, 500, 32)           2978336   \n",
      "_________________________________________________________________\n",
      "batch_normalization_2 (Batch (None, 500, 32)           128       \n",
      "_________________________________________________________________\n",
      "dropout_3 (Dropout)          (None, 500, 32)           0         \n",
      "_________________________________________________________________\n",
      "lstm_2 (LSTM)                (None, 500, 100)          53200     \n",
      "_________________________________________________________________\n",
      "dropout_4 (Dropout)          (None, 500, 100)          0         \n",
      "_________________________________________________________________\n",
      "lstm_3 (LSTM)                (None, 100)               80400     \n",
      "_________________________________________________________________\n",
      "dropout_5 (Dropout)          (None, 100)               0         \n",
      "_________________________________________________________________\n",
      "dense_2 (Dense)              (None, 1)                 101       \n",
      "=================================================================\n",
      "Total params: 3,112,165\n",
      "Trainable params: 3,112,101\n",
      "Non-trainable params: 64\n",
      "_________________________________________________________________\n",
      "\n",
      "\n",
      "Train on 245865 samples, validate on 105372 samples\n",
      "Epoch 1/10\n",
      "245865/245865 [==============================] - 2416s 10ms/step - loss: 0.2031 - acc: 0.9202 - val_loss: 0.1907 - val_acc: 0.9230\n",
      "Epoch 2/10\n",
      "245865/245865 [==============================] - 2653s 11ms/step - loss: 0.1621 - acc: 0.9366 - val_loss: 0.1783 - val_acc: 0.9281\n",
      "Epoch 3/10\n",
      "245865/245865 [==============================] - 2531s 10ms/step - loss: 0.1457 - acc: 0.9434 - val_loss: 0.1800 - val_acc: 0.9289\n",
      "Epoch 4/10\n",
      "245865/245865 [==============================] - 2466s 10ms/step - loss: 0.1343 - acc: 0.9478 - val_loss: 0.1920 - val_acc: 0.9276\n",
      "Epoch 5/10\n",
      "245865/245865 [==============================] - 2469s 10ms/step - loss: 0.1246 - acc: 0.9519 - val_loss: 0.1864 - val_acc: 0.9287\n",
      "Epoch 6/10\n",
      "245865/245865 [==============================] - 2468s 10ms/step - loss: 0.1166 - acc: 0.9549 - val_loss: 0.1965 - val_acc: 0.9292\n",
      "Epoch 7/10\n",
      "245865/245865 [==============================] - 2485s 10ms/step - loss: 0.1095 - acc: 0.9578 - val_loss: 0.2001 - val_acc: 0.9277\n",
      "Epoch 8/10\n",
      "245865/245865 [==============================] - 2506s 10ms/step - loss: 0.1041 - acc: 0.9597 - val_loss: 0.2028 - val_acc: 0.9274\n",
      "Epoch 9/10\n",
      "245865/245865 [==============================] - 2527s 10ms/step - loss: 0.0990 - acc: 0.9622 - val_loss: 0.1951 - val_acc: 0.9278\n",
      "Epoch 10/10\n",
      "245865/245865 [==============================] - 2541s 10ms/step - loss: 0.0952 - acc: 0.9636 - val_loss: 0.2113 - val_acc: 0.9267\n",
      "Wall time: 6h 57min 46s\n"
     ]
    }
   ],
   "source": [
    "%%time\n",
    "# Instantiate sequntial model\n",
    "model = Sequential()\n",
    "\n",
    "# Add Embedding Layer\n",
    "model.add(Embedding(vocab_size, embedding_vecor_length, input_length=max_review_length))\n",
    "\n",
    "# Add batch normalization\n",
    "model.add(BatchNormalization())\n",
    "\n",
    "# Add dropout\n",
    "model.add(Dropout(0.20))\n",
    "\n",
    "# Add LSTM Layer 1\n",
    "model.add(LSTM(100,return_sequences=True))\n",
    "\n",
    "# Add dropout\n",
    "model.add(Dropout(0.20))\n",
    "\n",
    "# Add LSTM Layer 2\n",
    "model.add(LSTM(100))\n",
    "\n",
    "# Add dropout\n",
    "model.add(Dropout(0.20))\n",
    "\n",
    "# Add Dense Layer\n",
    "model.add(Dense(1, activation='sigmoid'))\n",
    "\n",
    "# Summary of the model\n",
    "print(\"Model Summary: \\n\")\n",
    "model.summary()\n",
    "print()\n",
    "print()\n",
    "\n",
    "# Compile the model \n",
    "model.compile(loss='binary_crossentropy', optimizer='adam', metrics=['accuracy'])\n",
    "\n",
    "# Run the model\n",
    "trained_model = model.fit(x_train, np.array(y_train), batch_size = batch_size, epochs = epochs, verbose=1, validation_data=(x_test, y_test))"
   ]
  },
  {
   "cell_type": "code",
   "execution_count": 13,
   "metadata": {},
   "outputs": [
    {
     "name": "stdout",
     "output_type": "stream",
     "text": [
      "Test accuracy: 92.67%\n"
     ]
    }
   ],
   "source": [
    "score = model.evaluate(x_test, y_test, verbose=0) \n",
    "print('Test accuracy: {0:.2f}%'.format(score[1]*100))"
   ]
  },
  {
   "cell_type": "code",
   "execution_count": 14,
   "metadata": {},
   "outputs": [
    {
     "name": "stdout",
     "output_type": "stream",
     "text": [
      "\n",
      "\n"
     ]
    },
    {
     "data": {
      "image/png": "[encoded data removed]",
      "text/plain": [
       "<Figure size 432x288 with 1 Axes>"
      ]
     },
     "metadata": {
      "needs_background": "light"
     },
     "output_type": "display_data"
    }
   ],
   "source": [
    "print()\n",
    "print()\n",
    "\n",
    "# Plot train and cross validation error\n",
    "plot_train_cv_loss(trained_model, epochs)"
   ]
  },
  {
   "cell_type": "markdown",
   "metadata": {},
   "source": [
    "##### After 1st epoch we got 92.30% accuracy, and if we train further we starts to overfit, as validation error does not decreses."
   ]
  },
  {
   "cell_type": "markdown",
   "metadata": {},
   "source": [
    "<br/>\n",
    "<br/>\n",
    "\n",
    "#### Model 3 - With 5 - LSTM Layers"
   ]
  },
  {
   "cell_type": "code",
   "execution_count": 9,
   "metadata": {},
   "outputs": [
    {
     "name": "stdout",
     "output_type": "stream",
     "text": [
      "Model Summary: \n",
      "\n",
      "_________________________________________________________________\n",
      "Layer (type)                 Output Shape              Param #   \n",
      "=================================================================\n",
      "embedding_1 (Embedding)      (None, 500, 32)           2978336   \n",
      "_________________________________________________________________\n",
      "batch_normalization_1 (Batch (None, 500, 32)           128       \n",
      "_________________________________________________________________\n",
      "dropout_1 (Dropout)          (None, 500, 32)           0         \n",
      "_________________________________________________________________\n",
      "lstm_1 (LSTM)                (None, 500, 100)          53200     \n",
      "_________________________________________________________________\n",
      "dropout_2 (Dropout)          (None, 500, 100)          0         \n",
      "_________________________________________________________________\n",
      "lstm_2 (LSTM)                (None, 500, 80)           57920     \n",
      "_________________________________________________________________\n",
      "dropout_3 (Dropout)          (None, 500, 80)           0         \n",
      "_________________________________________________________________\n",
      "lstm_3 (LSTM)                (None, 500, 60)           33840     \n",
      "_________________________________________________________________\n",
      "dropout_4 (Dropout)          (None, 500, 60)           0         \n",
      "_________________________________________________________________\n",
      "lstm_4 (LSTM)                (None, 500, 40)           16160     \n",
      "_________________________________________________________________\n",
      "batch_normalization_2 (Batch (None, 500, 40)           160       \n",
      "_________________________________________________________________\n",
      "dropout_5 (Dropout)          (None, 500, 40)           0         \n",
      "_________________________________________________________________\n",
      "lstm_5 (LSTM)                (None, 20)                4880      \n",
      "_________________________________________________________________\n",
      "dropout_6 (Dropout)          (None, 20)                0         \n",
      "_________________________________________________________________\n",
      "dense_1 (Dense)              (None, 1)                 21        \n",
      "=================================================================\n",
      "Total params: 3,144,645\n",
      "Trainable params: 3,144,501\n",
      "Non-trainable params: 144\n",
      "_________________________________________________________________\n",
      "\n",
      "\n",
      "Train on 245865 samples, validate on 105372 samples\n",
      "Epoch 1/10\n",
      "245865/245865 [==============================] - 4146s 17ms/step - loss: 2.3025 - acc: 0.9107 - val_loss: 0.2145 - val_acc: 0.9182\n",
      "Epoch 2/10\n",
      "245865/245865 [==============================] - 3659s 15ms/step - loss: 0.1803 - acc: 0.9323 - val_loss: 0.1930 - val_acc: 0.9227\n",
      "Epoch 3/10\n",
      "245865/245865 [==============================] - 3656s 15ms/step - loss: 0.1625 - acc: 0.9389 - val_loss: 0.1959 - val_acc: 0.9268\n",
      "Epoch 4/10\n",
      "245865/245865 [==============================] - 3654s 15ms/step - loss: 0.1507 - acc: 0.9431 - val_loss: 0.1977 - val_acc: 0.9220\n",
      "Epoch 5/10\n",
      "245865/245865 [==============================] - 3650s 15ms/step - loss: 0.1404 - acc: 0.9475 - val_loss: 0.1885 - val_acc: 0.9283\n",
      "Epoch 6/10\n",
      "245865/245865 [==============================] - 3648s 15ms/step - loss: 0.1331 - acc: 0.9504 - val_loss: 0.2017 - val_acc: 0.9257\n",
      "Epoch 7/10\n",
      "245865/245865 [==============================] - 3664s 15ms/step - loss: 0.1255 - acc: 0.9525 - val_loss: 0.1880 - val_acc: 0.9279\n",
      "Epoch 8/10\n",
      "245865/245865 [==============================] - 3659s 15ms/step - loss: 0.1192 - acc: 0.9559 - val_loss: 0.2126 - val_acc: 0.9275\n",
      "Epoch 9/10\n",
      "245865/245865 [==============================] - 3665s 15ms/step - loss: 0.1145 - acc: 0.9572 - val_loss: 0.2138 - val_acc: 0.9257\n",
      "Epoch 10/10\n",
      "245865/245865 [==============================] - 3751s 15ms/step - loss: 0.1092 - acc: 0.9594 - val_loss: 0.2201 - val_acc: 0.9252\n"
     ]
    }
   ],
   "source": [
    "# Instantiate sequntial model\n",
    "model = Sequential()\n",
    "\n",
    "# Add Embedding Layer\n",
    "model.add(Embedding(vocab_size, embedding_vecor_length, input_length=max_review_length))\n",
    "\n",
    "# Add batch normalization\n",
    "model.add(BatchNormalization())\n",
    "\n",
    "# Add dropout\n",
    "model.add(Dropout(0.20))\n",
    "\n",
    "# Add LSTM Layer 1\n",
    "model.add(LSTM(100,return_sequences=True,bias_regularizer=reg))\n",
    "\n",
    "# Add dropout\n",
    "model.add(Dropout(0.20))\n",
    "\n",
    "# Add LSTM Layer 2\n",
    "model.add(LSTM(80,return_sequences=True,bias_regularizer=reg))\n",
    "\n",
    "# Add dropout\n",
    "model.add(Dropout(0.20))\n",
    "\n",
    "# Add LSTM Layer 3\n",
    "model.add(LSTM(60,return_sequences=True,bias_regularizer=reg))\n",
    "\n",
    "# Add dropout\n",
    "model.add(Dropout(0.30))\n",
    "\n",
    "# Add LSTM Layer 4\n",
    "model.add(LSTM(40,return_sequences=True,bias_regularizer=reg))\n",
    "\n",
    "# Add batch normalization\n",
    "model.add(BatchNormalization())\n",
    "\n",
    "# Add dropout\n",
    "model.add(Dropout(0.40))\n",
    "\n",
    "# Add LSTM Layer 5\n",
    "model.add(LSTM(20))\n",
    "\n",
    "# Add dropout\n",
    "model.add(Dropout(0.50))\n",
    "\n",
    "# Add Dense Layer\n",
    "model.add(Dense(1, activation='sigmoid'))\n",
    "\n",
    "# Summary of the model\n",
    "print(\"Model Summary: \\n\")\n",
    "model.summary()\n",
    "print()\n",
    "print()\n",
    "\n",
    "# Compile the model \n",
    "model.compile(loss='binary_crossentropy', optimizer='adam', metrics=['accuracy'])\n",
    "\n",
    "# Run the model\n",
    "trained_model = model.fit(x_train, np.array(y_train), batch_size = batch_size, epochs = epochs, verbose=1, validation_data=(x_test, y_test))"
   ]
  },
  {
   "cell_type": "code",
   "execution_count": 10,
   "metadata": {},
   "outputs": [
    {
     "name": "stdout",
     "output_type": "stream",
     "text": [
      "Test accuracy: 92.52%\n"
     ]
    }
   ],
   "source": [
    "score = model.evaluate(x_test, y_test, verbose=0) \n",
    "print('Test accuracy: {0:.2f}%'.format(score[1]*100))"
   ]
  },
  {
   "cell_type": "code",
   "execution_count": 11,
   "metadata": {},
   "outputs": [
    {
     "name": "stdout",
     "output_type": "stream",
     "text": [
      "\n",
      "\n"
     ]
    },
    {
     "data": {
      "image/png": "[encoded data removed]",
      "text/plain": [
       "<Figure size 432x288 with 1 Axes>"
      ]
     },
     "metadata": {
      "needs_background": "light"
     },
     "output_type": "display_data"
    }
   ],
   "source": [
    "print()\n",
    "print()\n",
    "\n",
    "# Plot train and cross validation error\n",
    "plot_train_cv_loss(trained_model, epochs)"
   ]
  },
  {
   "cell_type": "markdown",
   "metadata": {},
   "source": [
    "##### After 7th epoch, gap between train error and test error increases drastically, so to avoid overfitting we should train our model upto 7th epoch.\n",
    "\n",
    "##### We can see that, as we increase number of LSTM layers chance of overfitting the model reduces."
   ]
  },
  {
   "cell_type": "markdown",
   "metadata": {},
   "source": [
    "<br/>\n",
    "<br/>"
   ]
  },
  {
   "cell_type": "code",
   "execution_count": 2,
   "metadata": {},
   "outputs": [
    {
     "name": "stdout",
     "output_type": "stream",
     "text": [
      "+----------------------------------------------------------------------------------+\n",
      "|                     Comparison between different LSTM Models                     |\n",
      "+-----------------------+-------+------------------+-------------------------------+\n",
      "| Number of LSTM Layers | Epoch | Testing Accuracy |          Does Overfit         |\n",
      "+-----------------------+-------+------------------+-------------------------------+\n",
      "|           1           |   10  |      90.77       |              Yes              |\n",
      "|           2           |   10  |      92.67       |              Yes              |\n",
      "|           5           |   10  |      92.52       | No - Optimal Epoch value is 7 |\n",
      "+-----------------------+-------+------------------+-------------------------------+\n"
     ]
    }
   ],
   "source": [
    "# Pretty table instance\n",
    "ptable = PrettyTable()\n",
    "ptable.title = \"Comparison between different LSTM Models\"\n",
    "ptable.field_names = ['Number of LSTM Layers','Epoch','Testing Accuracy','Does Overfit']\n",
    "ptable.add_row([\"1\",\"10\",\"90.77\",\"Yes\"])\n",
    "ptable.add_row([\"2\",\"10\",\"92.67\",\"Yes\"])\n",
    "ptable.add_row([\"5\",\"10\",\"92.52\",\"No - Optimal Epoch value is 7\"])\n",
    "\n",
    "# Print pretty table values\n",
    "print(ptable)"
   ]
  },
  {
   "cell_type": "markdown",
   "metadata": {},
   "source": [
    "---\n",
    "### Observations :\n",
    "---"
   ]
  },
  {
   "cell_type": "markdown",
   "metadata": {},
   "source": [
    "> 1. Tried different LSTM architectures on Amazon Fine Food Review Dataset.\n",
    "> 2. 'sigmoid' is used as an activation function to develop LSTM network. \n",
    "> 3. 'Adam' is used as an optimizer to develop LSTM network. \n",
    "> 4. Introduced batch normalization and dropout in between hidden layers.\n",
    "\n",
    "### Note:\n",
    "#### To avoid overfitting we can try below following measures:\n",
    "#### We can increase the number of epochs to some reasonable number like 100 - 300 ,\n",
    "#### We can introduce 'recurrent_regularizer' on LSTM layer, for different values of L1 or L2 or elasticnet ,\n",
    "#### We can also try 'kernel_regularizer' on LSTM layer, for different values of L1 or L2 or elasticnet , \n",
    "#### We can combine CNN + MaxPooling + LSTM and observe the any decrease in validation error.\n",
    "\n",
    "\n",
    "<br/>\n",
    "<br/>\n"
   ]
  }
 ],
 "metadata": {
  "kernelspec": {
   "display_name": "Python 3",
   "language": "python",
   "name": "python3"
  },
  "language_info": {
   "codemirror_mode": {
    "name": "ipython",
    "version": 3
   },
   "file_extension": ".py",
   "mimetype": "text/x-python",
   "name": "python",
   "nbconvert_exporter": "python",
   "pygments_lexer": "ipython3",
   "version": "3.6.6"
  }
 },
 "nbformat": 4,
 "nbformat_minor": 2
}
